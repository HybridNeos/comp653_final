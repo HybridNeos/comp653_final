{
 "cells": [
  {
   "cell_type": "code",
   "execution_count": 2,
   "metadata": {},
   "outputs": [],
   "source": [
    "import pandas as pd\n",
    "\n",
    "from sklearn.linear_model import LogisticRegression\n",
    "from sklearn.tree import DecisionTreeClassifier\n",
    "from math import exp\n",
    "\n",
    "from sklearn.compose import ColumnTransformer\n",
    "from sklearn.preprocessing import StandardScaler, OneHotEncoder\n",
    "from sklearn.utils.class_weight import compute_class_weight\n",
    "from sklearn.metrics import accuracy_score, roc_auc_score, f1_score"
   ]
  },
  {
   "cell_type": "code",
   "execution_count": 3,
   "metadata": {},
   "outputs": [
    {
     "name": "stdout",
     "output_type": "stream",
     "text": [
      "(822, 21) (822,) (178, 21) (178,)\n"
     ]
    }
   ],
   "source": [
    "train_data = pd.read_csv(\"train_data.csv\")\n",
    "y_train = train_data[\"label\"]\n",
    "train_data.drop([\"label\"], axis=1, inplace=True)\n",
    "\n",
    "test_data = pd.read_csv(\"test_data.csv\")\n",
    "y_test = test_data[\"label\"]\n",
    "test_data.drop([\"label\"], axis=1, inplace=True)\n",
    "\n",
    "print(train_data.shape, y_train.shape, test_data.shape, y_test.shape)"
   ]
  },
  {
   "cell_type": "code",
   "execution_count": 4,
   "metadata": {},
   "outputs": [],
   "source": [
    "one_hot_cols = [\"insured_relationship\", \"authorities_contacted\"]\n",
    "scaler_cols = list(set(train_data.columns) - set(one_hot_cols))\n",
    "\n",
    "ct = ColumnTransformer(\n",
    "    [\n",
    "        (\"one_hot\", OneHotEncoder(), one_hot_cols),\n",
    "        (\"scaler\", StandardScaler(), scaler_cols)\n",
    "    ]\n",
    ")\n",
    "\n",
    "X_train = ct.fit_transform(train_data)\n",
    "feature_names = ct.get_feature_names_out(train_data.columns)\n",
    "X_test = ct.transform(test_data)"
   ]
  },
  {
   "cell_type": "code",
   "execution_count": 5,
   "metadata": {},
   "outputs": [],
   "source": [
    "def run_metrics(model):\n",
    "    train_preds = model.predict(X_train)\n",
    "    print(\"Train metrics\")\n",
    "    for metric in [accuracy_score, roc_auc_score, f1_score]:\n",
    "        print(round(metric(y_train, train_preds), 3))\n",
    "\n",
    "    test_preds = model.predict(X_test)\n",
    "    print(\"\\nTest metrics\")\n",
    "    for metric in [accuracy_score, roc_auc_score, f1_score]:\n",
    "        print(round(metric(y_test, test_preds), 3))"
   ]
  },
  {
   "cell_type": "code",
   "execution_count": 7,
   "metadata": {},
   "outputs": [
    {
     "data": {
      "text/plain": [
       "[('one_hot__authorities_contacted_Other', 1.606952331361755),\n",
       " ('scaler__deaths_per_100k', 1.4526666153813133),\n",
       " ('one_hot__insured_relationship_other-relative', 1.3386587190761983),\n",
       " ('one_hot__authorities_contacted_Ambulance', 1.3352140845475922),\n",
       " ('scaler__rank_incident_severity', 1.2458386670796933),\n",
       " ('scaler__non_violent_rate', 1.2426260147123753),\n",
       " ('one_hot__authorities_contacted_Fire', 1.2084795622922733),\n",
       " ('one_hot__insured_relationship_not-in-family', 1.1841325847608917),\n",
       " ('scaler__umbrella_limit', 1.161651257600443),\n",
       " ('one_hot__insured_relationship_wife', 1.1397528257211884)]"
      ]
     },
     "execution_count": 7,
     "metadata": {},
     "output_type": "execute_result"
    }
   ],
   "source": [
    "#class_weights = compute_class_weight(class_weight=\"balanced\", classes=[0, 1], y=y_train)\n",
    "lr = LogisticRegression(penalty=\"l2\", class_weight=\"balanced\", C=100, solver=\"liblinear\")\n",
    "lr.fit(X_train, y_train)\n",
    "importances = [(feature, exp(weight)) for feature, weight in zip(feature_names, lr.coef_[0])]\n",
    "sorted(importances, key=lambda y: -y[1])[:10]"
   ]
  },
  {
   "cell_type": "code",
   "execution_count": 8,
   "metadata": {},
   "outputs": [
    {
     "name": "stdout",
     "output_type": "stream",
     "text": [
      "Train metrics\n",
      "0.619\n",
      "0.636\n",
      "0.463\n",
      "\n",
      "Test metrics\n",
      "0.539\n",
      "0.574\n",
      "0.414\n"
     ]
    }
   ],
   "source": [
    "run_metrics(lr)"
   ]
  },
  {
   "cell_type": "code",
   "execution_count": 10,
   "metadata": {},
   "outputs": [
    {
     "data": {
      "text/plain": [
       "[('scaler__rank_incident_severity', 0.8692569392767289),\n",
       " ('scaler__months_as_customer', 0.05572584401480137),\n",
       " ('scaler__violent_rate', 0.03394967631705321),\n",
       " ('scaler__avg_car_price', 0.022083386309404696),\n",
       " ('scaler__claim_capital_percent', 0.01898415408201161)]"
      ]
     },
     "execution_count": 10,
     "metadata": {},
     "output_type": "execute_result"
    }
   ],
   "source": [
    "# Consider undoing one-hot encoding for decision tree\n",
    "dt = DecisionTreeClassifier(class_weight=\"balanced\", max_depth=3)\n",
    "dt.fit(X_train, y_train)\n",
    "importances = {feature: importance for feature, importance in zip(feature_names, dt.feature_importances_)}\n",
    "sorted(list([x for x in importances.items() if x[1] > 0]), key=lambda y: -y[1])"
   ]
  },
  {
   "cell_type": "code",
   "execution_count": 121,
   "metadata": {},
   "outputs": [],
   "source": [
    "# from sklearn.feature_selection import RFE, SequentialFeatureSelector\n",
    "# selector = SequentialFeatureSelector(lr)\n",
    "# selector = RFE(lr, n_features_to_select=10, step=1)\n",
    "# selector.fit(X_train, y_train)\n",
    "# print(selector.support_)"
   ]
  },
  {
   "cell_type": "code",
   "execution_count": 1,
   "metadata": {},
   "outputs": [
    {
     "ename": "NameError",
     "evalue": "name 'dt' is not defined",
     "output_type": "error",
     "traceback": [
      "\u001b[1;31m---------------------------------------------------------------------------\u001b[0m",
      "\u001b[1;31mNameError\u001b[0m                                 Traceback (most recent call last)",
      "Cell \u001b[1;32mIn[1], line 1\u001b[0m\n\u001b[1;32m----> 1\u001b[0m model \u001b[39m=\u001b[39m dt\n\u001b[0;32m      3\u001b[0m train_preds \u001b[39m=\u001b[39m model\u001b[39m.\u001b[39mpredict(X_train)\n\u001b[0;32m      4\u001b[0m \u001b[39mprint\u001b[39m(\u001b[39m\"\u001b[39m\u001b[39mTrain metrics\u001b[39m\u001b[39m\"\u001b[39m)\n",
      "\u001b[1;31mNameError\u001b[0m: name 'dt' is not defined"
     ]
    }
   ],
   "source": []
  }
 ],
 "metadata": {
  "kernelspec": {
   "display_name": "comp653",
   "language": "python",
   "name": "python3"
  },
  "language_info": {
   "codemirror_mode": {
    "name": "ipython",
    "version": 3
   },
   "file_extension": ".py",
   "mimetype": "text/x-python",
   "name": "python",
   "nbconvert_exporter": "python",
   "pygments_lexer": "ipython3",
   "version": "3.11.4"
  },
  "orig_nbformat": 4
 },
 "nbformat": 4,
 "nbformat_minor": 2
}
