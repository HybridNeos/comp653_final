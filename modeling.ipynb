{
 "cells": [
  {
   "cell_type": "code",
   "execution_count": 110,
   "metadata": {},
   "outputs": [],
   "source": [
    "import pandas as pd\n",
    "\n",
    "from sklearn.linear_model import LogisticRegression\n",
    "from sklearn.tree import DecisionTreeClassifier\n",
    "from sklearn.ensemble import RandomForestClassifier\n",
    "from imblearn.over_sampling import SMOTE\n",
    "from math import exp\n",
    "\n",
    "from sklearn.compose import ColumnTransformer\n",
    "from sklearn.preprocessing import StandardScaler, OneHotEncoder\n",
    "from sklearn.utils.class_weight import compute_class_weight\n",
    "from sklearn.metrics import accuracy_score, roc_auc_score, f1_score"
   ]
  },
  {
   "cell_type": "markdown",
   "metadata": {},
   "source": [
    "## Feature selection by correlation"
   ]
  },
  {
   "cell_type": "code",
   "execution_count": 106,
   "metadata": {},
   "outputs": [
    {
     "data": {
      "text/plain": [
       "label                           1.000000\n",
       "rank_incident_severity          0.119142\n",
       "non_violent_rate                0.096296\n",
       "number_of_vehicles_involved     0.078499\n",
       "violent_rate                    0.072924\n",
       "in_state                        0.070108\n",
       "deaths_per_100k                 0.055592\n",
       "rank_insured_education_level    0.050458\n",
       "policy_amt                     -0.049461\n",
       "umbrella_limit                  0.049313\n",
       "csl_amt                        -0.048822\n",
       "incident_hour_of_the_day        0.040186\n",
       "deaths_per_100mil_miles         0.036632\n",
       "witnesses                       0.035485\n",
       "bodily_injuries                 0.028191\n",
       "capital_gains                  -0.024975\n",
       "avg_car_price                   0.013819\n",
       "capital_loss                   -0.013543\n",
       "claim_capital_percent           0.003998\n",
       "months_as_customer             -0.003483\n",
       "Name: label, dtype: float64"
      ]
     },
     "execution_count": 106,
     "metadata": {},
     "output_type": "execute_result"
    }
   ],
   "source": [
    "df = pd.read_csv(\"train_data.csv\").rename({\"deaths_per_100mil_vehicle_miles\": \"deaths_per_100mil_miles\"}, axis=1)\n",
    "df.corr(numeric_only=True)[\"label\"].sort_values(key=lambda x: abs(x), ascending=False)"
   ]
  },
  {
   "cell_type": "code",
   "execution_count": 107,
   "metadata": {},
   "outputs": [
    {
     "data": {
      "text/html": [
       "<div>\n",
       "<style scoped>\n",
       "    .dataframe tbody tr th:only-of-type {\n",
       "        vertical-align: middle;\n",
       "    }\n",
       "\n",
       "    .dataframe tbody tr th {\n",
       "        vertical-align: top;\n",
       "    }\n",
       "\n",
       "    .dataframe thead th {\n",
       "        text-align: right;\n",
       "    }\n",
       "</style>\n",
       "<table border=\"1\" class=\"dataframe\">\n",
       "  <thead>\n",
       "    <tr style=\"text-align: right;\">\n",
       "      <th></th>\n",
       "      <th>policy_amt</th>\n",
       "      <th>csl_amt</th>\n",
       "      <th>violent_rate</th>\n",
       "      <th>non_violent_rate</th>\n",
       "      <th>deaths_per_100k</th>\n",
       "      <th>deaths_per_100mil_miles</th>\n",
       "      <th>label</th>\n",
       "    </tr>\n",
       "  </thead>\n",
       "  <tbody>\n",
       "    <tr>\n",
       "      <th>policy_amt</th>\n",
       "      <td>NaN</td>\n",
       "      <td>0.99</td>\n",
       "      <td>NaN</td>\n",
       "      <td>NaN</td>\n",
       "      <td>NaN</td>\n",
       "      <td>NaN</td>\n",
       "      <td>NaN</td>\n",
       "    </tr>\n",
       "    <tr>\n",
       "      <th>csl_amt</th>\n",
       "      <td>0.99</td>\n",
       "      <td>NaN</td>\n",
       "      <td>NaN</td>\n",
       "      <td>NaN</td>\n",
       "      <td>NaN</td>\n",
       "      <td>NaN</td>\n",
       "      <td>NaN</td>\n",
       "    </tr>\n",
       "    <tr>\n",
       "      <th>violent_rate</th>\n",
       "      <td>NaN</td>\n",
       "      <td>NaN</td>\n",
       "      <td>NaN</td>\n",
       "      <td>0.85</td>\n",
       "      <td>0.70</td>\n",
       "      <td>0.72</td>\n",
       "      <td>NaN</td>\n",
       "    </tr>\n",
       "    <tr>\n",
       "      <th>non_violent_rate</th>\n",
       "      <td>NaN</td>\n",
       "      <td>NaN</td>\n",
       "      <td>0.85</td>\n",
       "      <td>NaN</td>\n",
       "      <td>0.83</td>\n",
       "      <td>0.73</td>\n",
       "      <td>NaN</td>\n",
       "    </tr>\n",
       "    <tr>\n",
       "      <th>deaths_per_100k</th>\n",
       "      <td>NaN</td>\n",
       "      <td>NaN</td>\n",
       "      <td>0.70</td>\n",
       "      <td>0.83</td>\n",
       "      <td>NaN</td>\n",
       "      <td>0.96</td>\n",
       "      <td>NaN</td>\n",
       "    </tr>\n",
       "    <tr>\n",
       "      <th>deaths_per_100mil_miles</th>\n",
       "      <td>NaN</td>\n",
       "      <td>NaN</td>\n",
       "      <td>0.72</td>\n",
       "      <td>0.73</td>\n",
       "      <td>0.96</td>\n",
       "      <td>NaN</td>\n",
       "      <td>NaN</td>\n",
       "    </tr>\n",
       "    <tr>\n",
       "      <th>label</th>\n",
       "      <td>NaN</td>\n",
       "      <td>NaN</td>\n",
       "      <td>NaN</td>\n",
       "      <td>NaN</td>\n",
       "      <td>NaN</td>\n",
       "      <td>NaN</td>\n",
       "      <td>NaN</td>\n",
       "    </tr>\n",
       "  </tbody>\n",
       "</table>\n",
       "</div>"
      ],
      "text/plain": [
       "                         policy_amt  csl_amt  violent_rate  non_violent_rate  \\\n",
       "policy_amt                      NaN     0.99           NaN               NaN   \n",
       "csl_amt                        0.99      NaN           NaN               NaN   \n",
       "violent_rate                    NaN      NaN           NaN              0.85   \n",
       "non_violent_rate                NaN      NaN          0.85               NaN   \n",
       "deaths_per_100k                 NaN      NaN          0.70              0.83   \n",
       "deaths_per_100mil_miles         NaN      NaN          0.72              0.73   \n",
       "label                           NaN      NaN           NaN               NaN   \n",
       "\n",
       "                         deaths_per_100k  deaths_per_100mil_miles  label  \n",
       "policy_amt                           NaN                      NaN    NaN  \n",
       "csl_amt                              NaN                      NaN    NaN  \n",
       "violent_rate                        0.70                     0.72    NaN  \n",
       "non_violent_rate                    0.83                     0.73    NaN  \n",
       "deaths_per_100k                      NaN                     0.96    NaN  \n",
       "deaths_per_100mil_miles             0.96                      NaN    NaN  \n",
       "label                                NaN                      NaN    NaN  "
      ]
     },
     "execution_count": 107,
     "metadata": {},
     "output_type": "execute_result"
    }
   ],
   "source": [
    "# For my thid party feature, see if they are self correlated\n",
    "\n",
    "x = df.corr(numeric_only=True)\n",
    "columns_for_corr = [\"policy_amt\", \"csl_amt\", \"violent_rate\", \"non_violent_rate\", \"deaths_per_100k\", \"deaths_per_100mil_miles\", \"label\"]\n",
    "x.where((x > 0.5) & (x < 1)).loc[columns_for_corr, columns_for_corr].round(2)"
   ]
  },
  {
   "cell_type": "code",
   "execution_count": 108,
   "metadata": {},
   "outputs": [
    {
     "data": {
      "text/html": [
       "<div>\n",
       "<style scoped>\n",
       "    .dataframe tbody tr th:only-of-type {\n",
       "        vertical-align: middle;\n",
       "    }\n",
       "\n",
       "    .dataframe tbody tr th {\n",
       "        vertical-align: top;\n",
       "    }\n",
       "\n",
       "    .dataframe thead th {\n",
       "        text-align: right;\n",
       "    }\n",
       "</style>\n",
       "<table border=\"1\" class=\"dataframe\">\n",
       "  <thead>\n",
       "    <tr style=\"text-align: right;\">\n",
       "      <th></th>\n",
       "      <th>label</th>\n",
       "    </tr>\n",
       "  </thead>\n",
       "  <tbody>\n",
       "    <tr>\n",
       "      <th>label</th>\n",
       "      <td>1.000000</td>\n",
       "    </tr>\n",
       "    <tr>\n",
       "      <th>rank_incident_severity</th>\n",
       "      <td>0.119142</td>\n",
       "    </tr>\n",
       "    <tr>\n",
       "      <th>non_violent_rate</th>\n",
       "      <td>0.096296</td>\n",
       "    </tr>\n",
       "    <tr>\n",
       "      <th>number_of_vehicles_involved</th>\n",
       "      <td>0.078499</td>\n",
       "    </tr>\n",
       "    <tr>\n",
       "      <th>violent_rate</th>\n",
       "      <td>0.072924</td>\n",
       "    </tr>\n",
       "    <tr>\n",
       "      <th>in_state</th>\n",
       "      <td>0.070108</td>\n",
       "    </tr>\n",
       "    <tr>\n",
       "      <th>deaths_per_100k</th>\n",
       "      <td>0.055592</td>\n",
       "    </tr>\n",
       "    <tr>\n",
       "      <th>rank_insured_education_level</th>\n",
       "      <td>0.050458</td>\n",
       "    </tr>\n",
       "    <tr>\n",
       "      <th>policy_amt</th>\n",
       "      <td>-0.049461</td>\n",
       "    </tr>\n",
       "    <tr>\n",
       "      <th>umbrella_limit</th>\n",
       "      <td>0.049313</td>\n",
       "    </tr>\n",
       "    <tr>\n",
       "      <th>csl_amt</th>\n",
       "      <td>-0.048822</td>\n",
       "    </tr>\n",
       "    <tr>\n",
       "      <th>incident_hour_of_the_day</th>\n",
       "      <td>0.040186</td>\n",
       "    </tr>\n",
       "    <tr>\n",
       "      <th>deaths_per_100mil_miles</th>\n",
       "      <td>0.036632</td>\n",
       "    </tr>\n",
       "    <tr>\n",
       "      <th>witnesses</th>\n",
       "      <td>0.035485</td>\n",
       "    </tr>\n",
       "    <tr>\n",
       "      <th>bodily_injuries</th>\n",
       "      <td>0.028191</td>\n",
       "    </tr>\n",
       "    <tr>\n",
       "      <th>capital_gains</th>\n",
       "      <td>-0.024975</td>\n",
       "    </tr>\n",
       "    <tr>\n",
       "      <th>avg_car_price</th>\n",
       "      <td>0.013819</td>\n",
       "    </tr>\n",
       "    <tr>\n",
       "      <th>capital_loss</th>\n",
       "      <td>-0.013543</td>\n",
       "    </tr>\n",
       "    <tr>\n",
       "      <th>claim_capital_percent</th>\n",
       "      <td>0.003998</td>\n",
       "    </tr>\n",
       "    <tr>\n",
       "      <th>months_as_customer</th>\n",
       "      <td>-0.003483</td>\n",
       "    </tr>\n",
       "  </tbody>\n",
       "</table>\n",
       "</div>"
      ],
      "text/plain": [
       "                                 label\n",
       "label                         1.000000\n",
       "rank_incident_severity        0.119142\n",
       "non_violent_rate              0.096296\n",
       "number_of_vehicles_involved   0.078499\n",
       "violent_rate                  0.072924\n",
       "in_state                      0.070108\n",
       "deaths_per_100k               0.055592\n",
       "rank_insured_education_level  0.050458\n",
       "policy_amt                   -0.049461\n",
       "umbrella_limit                0.049313\n",
       "csl_amt                      -0.048822\n",
       "incident_hour_of_the_day      0.040186\n",
       "deaths_per_100mil_miles       0.036632\n",
       "witnesses                     0.035485\n",
       "bodily_injuries               0.028191\n",
       "capital_gains                -0.024975\n",
       "avg_car_price                 0.013819\n",
       "capital_loss                 -0.013543\n",
       "claim_capital_percent         0.003998\n",
       "months_as_customer           -0.003483"
      ]
     },
     "execution_count": 108,
     "metadata": {},
     "output_type": "execute_result"
    }
   ],
   "source": [
    "# Because many are, only select the ones more correlated in abs to the label\n",
    "# ex. policy_amt and csl_amt are highly correlated and policy_amt is higher corr to take it\n",
    "\n",
    "x.loc[:, [\"label\"]].sort_values(\"label\", ascending=False, key=lambda x: abs(x))"
   ]
  },
  {
   "cell_type": "code",
   "execution_count": 111,
   "metadata": {},
   "outputs": [
    {
     "name": "stdout",
     "output_type": "stream",
     "text": [
      "(822, 21) (822,) (178, 21) (178,)\n"
     ]
    }
   ],
   "source": [
    "train_data = pd.read_csv(\"train_data.csv\")\n",
    "y_train = train_data[\"label\"]\n",
    "train_data.drop([\"label\"], axis=1, inplace=True)\n",
    "\n",
    "test_data = pd.read_csv(\"test_data.csv\")\n",
    "y_test = test_data[\"label\"]\n",
    "test_data.drop([\"label\"], axis=1, inplace=True)\n",
    "\n",
    "drop_by_corr = False\n",
    "if drop_by_corr:\n",
    "    for df in [train_data, test_data]:\n",
    "        df.drop([\"csl_amt\", \"deaths_per_100k\", \"violent_rate\"], axis=1, inplace=True)\n",
    "\n",
    "print(train_data.shape, y_train.shape, test_data.shape, y_test.shape)"
   ]
  },
  {
   "cell_type": "markdown",
   "metadata": {},
   "source": [
    "## Runs without dropping by corr"
   ]
  },
  {
   "cell_type": "code",
   "execution_count": 112,
   "metadata": {},
   "outputs": [],
   "source": [
    "one_hot_cols = [\"insured_relationship\", \"authorities_contacted\"]\n",
    "scaler_cols = list(set(train_data.columns) - set(one_hot_cols))\n",
    "\n",
    "ct = ColumnTransformer(\n",
    "    [\n",
    "        (\"one_hot\", OneHotEncoder(), one_hot_cols),\n",
    "        (\"scaler\", StandardScaler(), scaler_cols)\n",
    "    ]\n",
    ")\n",
    "\n",
    "X_train = ct.fit_transform(train_data)\n",
    "feature_names = ct.get_feature_names_out(train_data.columns)\n",
    "X_test = ct.transform(test_data)"
   ]
  },
  {
   "cell_type": "code",
   "execution_count": 192,
   "metadata": {},
   "outputs": [],
   "source": [
    "def run_metrics(model, train=X_train, test=X_test):\n",
    "    train_preds = model.predict(train)\n",
    "    print(\"Train metrics\")\n",
    "    for name, metric in zip(['accuracy', 'auroc', 'f1'], [accuracy_score, roc_auc_score, f1_score]):\n",
    "        print(name, round(metric(y_train, train_preds), 3))\n",
    "\n",
    "    test_preds = model.predict(test)\n",
    "    print(\"\\nTest metrics\")\n",
    "    for name, metric in zip(['accuracy', 'auroc', 'f1'], [accuracy_score, roc_auc_score, f1_score]):\n",
    "        print(name, round(metric(y_test, test_preds), 3))"
   ]
  },
  {
   "cell_type": "code",
   "execution_count": 242,
   "metadata": {},
   "outputs": [
    {
     "data": {
      "text/plain": [
       "[('scaler__deaths_per_100k', 1.345),\n",
       " ('one_hot__authorities_contacted_Other', 1.334),\n",
       " ('scaler__non_violent_rate', 1.289),\n",
       " ('one_hot__insured_relationship_other-relative', 1.288),\n",
       " ('scaler__rank_incident_severity', 1.246),\n",
       " ('scaler__umbrella_limit', 1.16),\n",
       " ('one_hot__insured_relationship_not-in-family', 1.138),\n",
       " ('one_hot__authorities_contacted_Ambulance', 1.112),\n",
       " ('scaler__rank_insured_education_level', 1.107),\n",
       " ('scaler__witnesses', 1.104)]"
      ]
     },
     "execution_count": 242,
     "metadata": {},
     "output_type": "execute_result"
    }
   ],
   "source": [
    "#class_weights = compute_class_weight(class_weight=\"balanced\", classes=[0, 1], y=y_train)\n",
    "lr = LogisticRegression(penalty=\"l1\", class_weight=\"balanced\", C=10, solver=\"liblinear\")\n",
    "lr.fit(X_train, y_train)\n",
    "importances = [(feature, round(exp(weight), 3)) for feature, weight in zip(feature_names, lr.coef_[0])]\n",
    "sorted(importances, key=lambda y: -y[1])[:10]"
   ]
  },
  {
   "cell_type": "code",
   "execution_count": 243,
   "metadata": {},
   "outputs": [
    {
     "name": "stdout",
     "output_type": "stream",
     "text": [
      "Train metrics\n",
      "accuracy 0.624\n",
      "auroc 0.642\n",
      "f1 0.47\n",
      "\n",
      "Test metrics\n",
      "accuracy 0.545\n",
      "auroc 0.578\n",
      "f1 0.417\n"
     ]
    }
   ],
   "source": [
    "run_metrics(lr)"
   ]
  },
  {
   "cell_type": "code",
   "execution_count": 257,
   "metadata": {},
   "outputs": [
    {
     "data": {
      "text/plain": [
       "[('scaler__rank_incident_severity', 0.9624120597315003),\n",
       " ('scaler__violent_rate', 0.037587940268499626)]"
      ]
     },
     "execution_count": 257,
     "metadata": {},
     "output_type": "execute_result"
    }
   ],
   "source": [
    "# Consider undoing one-hot encoding for decision tree\n",
    "dt = DecisionTreeClassifier(max_depth=2, class_weight=\"balanced\", random_state=653)\n",
    "dt.fit(X_train, y_train)\n",
    "importances = {feature: importance for feature, importance in zip(feature_names, dt.feature_importances_)}\n",
    "sorted_importances = sorted(list([x for x in importances.items() if x[1] > 0]), key=lambda y: -y[1])\n",
    "sorted_importances"
   ]
  },
  {
   "cell_type": "code",
   "execution_count": 258,
   "metadata": {},
   "outputs": [
    {
     "name": "stdout",
     "output_type": "stream",
     "text": [
      "Train metrics\n",
      "accuracy 0.81\n",
      "auroc 0.769\n",
      "f1 0.641\n",
      "\n",
      "Test metrics\n",
      "accuracy 0.815\n",
      "auroc 0.751\n",
      "f1 0.629\n"
     ]
    }
   ],
   "source": [
    "run_metrics(dt)"
   ]
  },
  {
   "cell_type": "markdown",
   "metadata": {},
   "source": [
    "### Retry using importance and fewer features"
   ]
  },
  {
   "cell_type": "code",
   "execution_count": 235,
   "metadata": {},
   "outputs": [],
   "source": [
    "# Get down 10 features\n",
    "scaler_important_features = [feature[0].split(\"__\")[1] for feature in sorted_importances if not feature[0].startswith(\"one_hot\")][:5]\n",
    "cat_important_features = [\"authorities_contacted\", \"insured_relationship\"] # they appear in the list\n",
    "train_data_importance = train_data[scaler_important_features + cat_important_features]"
   ]
  },
  {
   "cell_type": "code",
   "execution_count": 222,
   "metadata": {},
   "outputs": [
    {
     "data": {
      "text/plain": [
       "Index(['rank_incident_severity', 'months_as_customer',\n",
       "       'incident_hour_of_the_day', 'witnesses', 'avg_car_price',\n",
       "       'deaths_per_100mil_vehicle_miles', 'claim_capital_percent',\n",
       "       'capital_loss', 'authorities_contacted', 'insured_relationship'],\n",
       "      dtype='object')"
      ]
     },
     "execution_count": 222,
     "metadata": {},
     "output_type": "execute_result"
    }
   ],
   "source": [
    "train_data_importance.columns"
   ]
  },
  {
   "cell_type": "code",
   "execution_count": 236,
   "metadata": {},
   "outputs": [
    {
     "data": {
      "text/plain": [
       "((178, 16), (178, 16))"
      ]
     },
     "execution_count": 236,
     "metadata": {},
     "output_type": "execute_result"
    }
   ],
   "source": [
    "ct_importance = ColumnTransformer(\n",
    "    [\n",
    "        (\"one_hot\", OneHotEncoder(), cat_important_features), # don't need to encode for decision tree\n",
    "        (\"scaler\", StandardScaler(), scaler_important_features)\n",
    "    ]\n",
    ")\n",
    "\n",
    "X_train_importance = ct_importance.fit_transform(train_data_importance)\n",
    "feature_names_importance = ct_importance.get_feature_names_out(train_data_importance.columns)\n",
    "\n",
    "test_data_importance = test_data[scaler_important_features + cat_important_features]\n",
    "X_test_importance = ct_importance.transform(test_data_importance)\n",
    "\n",
    "X_test_importance.shape, X_test_importance.shape"
   ]
  },
  {
   "cell_type": "code",
   "execution_count": 238,
   "metadata": {},
   "outputs": [
    {
     "name": "stdout",
     "output_type": "stream",
     "text": [
      "Train metrics\n",
      "accuracy 0.607\n",
      "auroc 0.659\n",
      "f1 0.488\n",
      "\n",
      "Test metrics\n",
      "accuracy 0.607\n",
      "auroc 0.627\n",
      "f1 0.462\n"
     ]
    }
   ],
   "source": [
    "# Shows a benefit for logistic regression, train and test are close\n",
    "\n",
    "lr_importance = LogisticRegression(penalty=\"l1\", class_weight=\"balanced\", C=0.1, solver=\"liblinear\")\n",
    "lr_importance.fit(X_train_importance, y_train)\n",
    "run_metrics(lr_importance, X_train_importance, X_test_importance)"
   ]
  },
  {
   "cell_type": "code",
   "execution_count": 256,
   "metadata": {},
   "outputs": [
    {
     "name": "stdout",
     "output_type": "stream",
     "text": [
      "Train metrics\n",
      "accuracy 0.807\n",
      "auroc 0.772\n",
      "f1 0.641\n",
      "\n",
      "Test metrics\n",
      "accuracy 0.798\n",
      "auroc 0.74\n",
      "f1 0.609\n"
     ]
    }
   ],
   "source": [
    "# Still better\n",
    "\n",
    "dt_importance = DecisionTreeClassifier(max_depth=2, class_weight=\"balanced\", random_state=653)\n",
    "dt_importance.fit(X_train_importance, y_train)\n",
    "run_metrics(dt_importance, X_train_importance, X_test_importance)"
   ]
  },
  {
   "cell_type": "code",
   "execution_count": 54,
   "metadata": {},
   "outputs": [],
   "source": [
    "# from sklearn.feature_selection import RFE, SequentialFeatureSelector\n",
    "# selector = SequentialFeatureSelector(lr)\n",
    "# selector = RFE(lr, n_features_to_select=10, step=1)\n",
    "# selector.fit(X_train, y_train)\n",
    "# print(selector.support_)"
   ]
  },
  {
   "cell_type": "markdown",
   "metadata": {},
   "source": [
    "## Runs with dropping by corr"
   ]
  },
  {
   "cell_type": "code",
   "execution_count": null,
   "metadata": {},
   "outputs": [],
   "source": [
    "train_data = pd.read_csv(\"train_data.csv\")\n",
    "y_train = train_data[\"label\"]\n",
    "train_data.drop([\"label\"], axis=1, inplace=True)\n",
    "\n",
    "test_data = pd.read_csv(\"test_data.csv\")\n",
    "y_test = test_data[\"label\"]\n",
    "test_data.drop([\"label\"], axis=1, inplace=True)\n",
    "\n",
    "drop_by_corr = True\n",
    "if drop_by_corr:\n",
    "    for df in [train_data, test_data]:\n",
    "        df.drop([\"csl_amt\", \"deaths_per_100k\", \"violent_rate\"], axis=1, inplace=True)\n",
    "\n",
    "print(train_data.shape, y_train.shape, test_data.shape, y_test.shape)"
   ]
  },
  {
   "cell_type": "code",
   "execution_count": 56,
   "metadata": {},
   "outputs": [],
   "source": [
    "one_hot_cols = [\"insured_relationship\", \"authorities_contacted\"]\n",
    "scaler_cols = list(set(train_data.columns) - set(one_hot_cols))\n",
    "\n",
    "ct = ColumnTransformer(\n",
    "    [\n",
    "        (\"one_hot\", OneHotEncoder(), one_hot_cols),\n",
    "        (\"scaler\", StandardScaler(), scaler_cols)\n",
    "    ]\n",
    ")\n",
    "\n",
    "X_train = ct.fit_transform(train_data)\n",
    "feature_names = ct.get_feature_names_out(train_data.columns)\n",
    "X_test = ct.transform(test_data)"
   ]
  },
  {
   "cell_type": "code",
   "execution_count": 71,
   "metadata": {},
   "outputs": [
    {
     "data": {
      "text/plain": [
       "[('scaler__non_violent_rate', 1.469),\n",
       " ('one_hot__authorities_contacted_Other', 1.364),\n",
       " ('one_hot__insured_relationship_other-relative', 1.288),\n",
       " ('scaler__rank_incident_severity', 1.245),\n",
       " ('scaler__umbrella_limit', 1.162),\n",
       " ('one_hot__authorities_contacted_Ambulance', 1.144),\n",
       " ('one_hot__insured_relationship_not-in-family', 1.141),\n",
       " ('scaler__rank_insured_education_level', 1.106),\n",
       " ('scaler__in_state', 1.105),\n",
       " ('scaler__witnesses', 1.103)]"
      ]
     },
     "execution_count": 71,
     "metadata": {},
     "output_type": "execute_result"
    }
   ],
   "source": [
    "#class_weights = compute_class_weight(class_weight=\"balanced\", classes=[0, 1], y=y_train)\n",
    "lr = LogisticRegression(penalty=\"l1\", class_weight=\"balanced\", C=10, solver=\"liblinear\")\n",
    "lr.fit(X_train, y_train)\n",
    "importances = [(feature, round(exp(weight), 3)) for feature, weight in zip(feature_names, lr.coef_[0])]\n",
    "sorted(importances, key=lambda y: -y[1])[:10]"
   ]
  },
  {
   "cell_type": "code",
   "execution_count": 72,
   "metadata": {},
   "outputs": [
    {
     "name": "stdout",
     "output_type": "stream",
     "text": [
      "Train metrics\n",
      "accuracy 0.616\n",
      "auroc 0.63\n",
      "f1 0.457\n",
      "\n",
      "Test metrics\n",
      "accuracy 0.556\n",
      "auroc 0.585\n",
      "f1 0.423\n"
     ]
    }
   ],
   "source": [
    "run_metrics(lr)"
   ]
  },
  {
   "cell_type": "code",
   "execution_count": 65,
   "metadata": {},
   "outputs": [
    {
     "data": {
      "text/plain": [
       "[('scaler__rank_incident_severity', 0.6340786820967172),\n",
       " ('scaler__witnesses', 0.0563592792156414),\n",
       " ('scaler__avg_car_price', 0.04995636508754498),\n",
       " ('scaler__capital_gains', 0.04614315130601874),\n",
       " ('scaler__deaths_per_100mil_vehicle_miles', 0.045277065273033636),\n",
       " ('scaler__umbrella_limit', 0.038127125255876505),\n",
       " ('scaler__claim_capital_percent', 0.03627865915872157),\n",
       " ('scaler__months_as_customer', 0.031300575903479004),\n",
       " ('scaler__incident_hour_of_the_day', 0.02867029332903156),\n",
       " ('scaler__non_violent_rate', 0.022622122801992783),\n",
       " ('scaler__rank_insured_education_level', 0.011186680571942739)]"
      ]
     },
     "execution_count": 65,
     "metadata": {},
     "output_type": "execute_result"
    }
   ],
   "source": [
    "# Consider undoing one-hot encoding for decision tree\n",
    "dt = DecisionTreeClassifier(class_weight=\"balanced\", max_depth=5)\n",
    "dt.fit(X_train, y_train)\n",
    "importances = {feature: importance for feature, importance in zip(feature_names, dt.feature_importances_)}\n",
    "sorted(list([x for x in importances.items() if x[1] > 0]), key=lambda y: -y[1])"
   ]
  },
  {
   "cell_type": "code",
   "execution_count": 66,
   "metadata": {},
   "outputs": [
    {
     "name": "stdout",
     "output_type": "stream",
     "text": [
      "Train metrics\n",
      "accuracy 0.82\n",
      "auroc 0.821\n",
      "f1 0.692\n",
      "\n",
      "Test metrics\n",
      "accuracy 0.747\n",
      "auroc 0.684\n",
      "f1 0.526\n"
     ]
    }
   ],
   "source": [
    "run_metrics(dt)"
   ]
  },
  {
   "cell_type": "markdown",
   "metadata": {},
   "source": [
    "## Imbalanced learning"
   ]
  }
 ],
 "metadata": {
  "kernelspec": {
   "display_name": "comp653",
   "language": "python",
   "name": "python3"
  },
  "language_info": {
   "codemirror_mode": {
    "name": "ipython",
    "version": 3
   },
   "file_extension": ".py",
   "mimetype": "text/x-python",
   "name": "python",
   "nbconvert_exporter": "python",
   "pygments_lexer": "ipython3",
   "version": "3.11.4"
  },
  "orig_nbformat": 4
 },
 "nbformat": 4,
 "nbformat_minor": 2
}
